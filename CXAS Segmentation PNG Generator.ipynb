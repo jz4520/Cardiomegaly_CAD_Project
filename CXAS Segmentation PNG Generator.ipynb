{
 "cells": [
  {
   "cell_type": "code",
   "execution_count": 1,
   "id": "c0f36383-6084-45b7-84a6-1bfc2811a20e",
   "metadata": {},
   "outputs": [
    {
     "name": "stdout",
     "output_type": "stream",
     "text": [
      "True\n"
     ]
    }
   ],
   "source": [
    "import torch\n",
    "import numpy as np\n",
    "from PIL import Image\n",
    "import shutil\n",
    "import os\n",
    "os.environ[\"PYTORCH_CUDA_ALLOC_CONF\"] = \"max_split_size_mb:512\"\n",
    "os.chdir('../')\n",
    "from cxas.segmentor import CXAS\n",
    "import pandas as pd\n",
    "print(torch.cuda.is_available())"
   ]
  },
  {
   "cell_type": "code",
   "execution_count": 2,
   "id": "be80645a-beac-4bcf-822b-41f3f50b7339",
   "metadata": {},
   "outputs": [],
   "source": [
    "os.environ['HOME'] = 'C:\\\\Users\\\\Tianh'\n",
    "model = CXAS(\n",
    "    model_name = 'UNet_ResNet50_default',\n",
    "    gpus       = '0'\n",
    ")"
   ]
  },
  {
   "cell_type": "code",
   "execution_count": 3,
   "id": "5afe964f-d0da-47c3-ac73-e640a148fc55",
   "metadata": {
    "scrolled": true
   },
   "outputs": [
    {
     "name": "stdout",
     "output_type": "stream",
     "text": [
      "Store segmentations for all files in folder as .png-file\n",
      "Does the out_path exists: True\n"
     ]
    },
    {
     "name": "stderr",
     "output_type": "stream",
     "text": [
      "100%|████████████████████████████████████████████████████████████████████████████████████| 4/4 [00:25<00:00,  6.33s/it]"
     ]
    },
    {
     "name": "stdout",
     "output_type": "stream",
     "text": [
      "First five Files in directory: ['D:\\\\p_10_grouped\\\\Cariomegaly_segmentation_test\\\\New folder\\\\5d612499-b20019dc-d3324174-33b669e4-95ced958.jpg', 'D:\\\\p_10_grouped\\\\Cariomegaly_segmentation_test\\\\New folder\\\\cc021e2e-2f33c795-a51f7169-04fb6297-47cd5005.jpg', 'D:\\\\p_10_grouped\\\\Cariomegaly_segmentation_test\\\\New folder\\\\d7c1ee04-4d2ebf3c-7adace6e-f08341f5-3d801a3d.jpg', 'D:\\\\p_10_grouped\\\\Cariomegaly_segmentation_test\\\\New folder\\\\dcaead7c-bba30dd7-76fd5755-24ac78ea-2222e886.jpg', 'D:\\\\p_10_grouped\\\\Cariomegaly_segmentation_test\\\\New folder\\\\5d612499-b20019dc-d3324174-33b669e4-95ced958\\\\12th rib.png']\n"
     ]
    },
    {
     "name": "stderr",
     "output_type": "stream",
     "text": [
      "\n"
     ]
    }
   ],
   "source": [
    "input_path = r\"D:\\p_10_grouped\\Cariomegaly_segmentation_test\\New folder\"\n",
    "out_path = r\"D:\\p_10_grouped\\Cariomegaly_segmentation_test\\New folder\"\n",
    "\n",
    "\n",
    "print('Store segmentations for all files in folder as .png-file')\n",
    "print('Does the out_path exists:', os.path.isdir(out_path))\n",
    "\n",
    "model.process_folder(\n",
    "    input_path, \n",
    "    out_path, \n",
    "    'png', \n",
    "    create=True\n",
    "    )\n",
    "\n",
    "print('First five Files in directory:', [os.path.join(dp, f) \n",
    "                              for dp, dn, fn in os.walk(os.path.expanduser(out_path)) for f in fn][:5])\n"
   ]
  },
  {
   "cell_type": "code",
   "execution_count": 8,
   "id": "3d811565",
   "metadata": {},
   "outputs": [
    {
     "name": "stderr",
     "output_type": "stream",
     "text": [
      "100%|██████████████████████████████████████████████████████████████████████████████| 1000/1000 [53:19<00:00,  3.20s/it]\n",
      "100%|██████████████████████████████████████████████████████████████████████████████████| 98/98 [06:14<00:00,  3.83s/it]\n",
      "100%|████████████████████████████████████████████████████████████████████████████████████| 5/5 [00:26<00:00,  5.35s/it]\n",
      "100%|████████████████████████████████████████████████████████████████████████████| 1000/1000 [1:04:57<00:00,  3.90s/it]\n",
      "100%|████████████████████████████████████████████████████████████████████████████████| 572/572 [36:47<00:00,  3.86s/it]\n",
      "100%|██████████████████████████████████████████████████████████████████████████████| 1000/1000 [55:48<00:00,  3.35s/it]\n",
      "100%|████████████████████████████████████████████████████████████████████████████████| 264/264 [15:45<00:00,  3.58s/it]\n",
      "100%|████████████████████████████████████████████████████████████████████████████| 1000/1000 [1:05:36<00:00,  3.94s/it]\n",
      "100%|████████████████████████████████████████████████████████████████████████████████████| 5/5 [00:24<00:00,  4.83s/it]\n",
      "100%|████████████████████████████████████████████████████████████████████████████████| 338/338 [18:57<00:00,  3.37s/it]\n",
      "100%|██████████████████████████████████████████████████████████████████████████████████| 23/23 [01:30<00:00,  3.92s/it]\n",
      "100%|████████████████████████████████████████████████████████████████████████████████| 146/146 [08:27<00:00,  3.48s/it]\n",
      "100%|████████████████████████████████████████████████████████████████████████████████████| 7/7 [00:24<00:00,  3.50s/it]\n",
      "100%|██████████████████████████████████████████████████████████████████████████████████| 17/17 [00:50<00:00,  2.95s/it]\n",
      "100%|████████████████████████████████████████████████████████████████████████████| 1000/1000 [1:06:48<00:00,  4.01s/it]\n"
     ]
    }
   ],
   "source": [
    "import os\n",
    "\n",
    "def process_all_folders(root_folder):\n",
    "    # Iterate through each subfolder in the specified root folder\n",
    "    for subfolder in os.listdir(root_folder):\n",
    "        subfolder_path = os.path.join(root_folder, subfolder)\n",
    "\n",
    "        # Check if the item in the root folder is a subfolder\n",
    "        if os.path.isdir(subfolder_path):\n",
    "            # Create an output subfolder within the root folder\n",
    "            output_subfolder = os.path.join(root_folder, \"output\", subfolder)\n",
    "\n",
    "            # Check if the output subfolder exists, if not, create it\n",
    "            if not os.path.exists(output_subfolder):\n",
    "                os.makedirs(output_subfolder)\n",
    "\n",
    "            # Process the current subfolder\n",
    "            model.process_folder(\n",
    "                subfolder_path, \n",
    "                output_subfolder, \n",
    "                'png', \n",
    "                create=True\n",
    "            )\n",
    "\n",
    "\n",
    "            \n",
    "root_folder = r\"D:\\all_reports_combined\\cardiomegaly_mentions\\descriptor_grouped_segmented\"\n",
    "\n",
    "process_all_folders(root_folder)\n"
   ]
  },
  {
   "cell_type": "code",
   "execution_count": 3,
   "id": "2c8b5c9e",
   "metadata": {},
   "outputs": [
    {
     "name": "stderr",
     "output_type": "stream",
     "text": [
      "100%|████████████████████████████████████████████████████████████████████████████| 1246/1246 [1:12:07<00:00,  3.47s/it]\n",
      "100%|████████████████████████████████████████████████████████████████████████████████| 101/101 [06:41<00:00,  3.97s/it]\n",
      "100%|████████████████████████████████████████████████████████████████████████████████████| 5/5 [00:25<00:00,  5.12s/it]\n",
      "100%|████████████████████████████████████████████████████████████████████████████| 4759/4759 [5:10:58<00:00,  3.92s/it]\n",
      "100%|████████████████████████████████████████████████████████████████████████████████| 580/580 [39:15<00:00,  4.06s/it]\n",
      "100%|████████████████████████████████████████████████████████████████████████████| 2525/2525 [2:27:29<00:00,  3.50s/it]\n",
      "100%|████████████████████████████████████████████████████████████████████████████████| 268/268 [16:07<00:00,  3.61s/it]\n",
      "100%|█████████████████████████████████████████████████████████████████████████| 11469/11469 [12:33:26<00:00,  3.94s/it]\n",
      "0it [00:06, ?it/s]\n",
      "100%|████████████████████████████████████████████████████████████████████████████████████| 5/5 [00:21<00:00,  4.26s/it]\n",
      "100%|████████████████████████████████████████████████████████████████████████████████| 339/339 [19:54<00:00,  3.52s/it]\n",
      "100%|██████████████████████████████████████████████████████████████████████████████████| 23/23 [01:34<00:00,  4.10s/it]\n",
      "100%|████████████████████████████████████████████████████████████████████████████████| 146/146 [08:45<00:00,  3.60s/it]\n",
      "100%|████████████████████████████████████████████████████████████████████████████████████| 7/7 [00:25<00:00,  3.60s/it]\n",
      "100%|██████████████████████████████████████████████████████████████████████████████████| 18/18 [00:54<00:00,  3.03s/it]\n",
      "100%|████████████████████████████████████████████████████████████████████████████| 3154/3154 [3:31:04<00:00,  4.02s/it]\n"
     ]
    }
   ],
   "source": [
    "import os\n",
    "\n",
    "def process_all_folders(root_folder):\n",
    "    # Iterate through each subfolder in the specified root folder\n",
    "    for subfolder in os.listdir(root_folder):\n",
    "        subfolder_path = os.path.join(root_folder, subfolder)\n",
    "\n",
    "        # Check if the item in the root folder is a subfolder\n",
    "        if os.path.isdir(subfolder_path):\n",
    "            # Create an output subfolder within the root folder\n",
    "            output_subfolder = os.path.join(root_folder, \"output\", subfolder)\n",
    "\n",
    "            # Check if the output subfolder exists, if not, create it\n",
    "            if not os.path.exists(output_subfolder):\n",
    "                os.makedirs(output_subfolder)\n",
    "\n",
    "            # Process the current subfolder\n",
    "            model.process_folder(\n",
    "                subfolder_path, \n",
    "                output_subfolder, \n",
    "                'png', \n",
    "                create=True\n",
    "            )\n",
    "\n",
    "\n",
    "            \n",
    "root_folder = r\"D:\\all_reports_combined\\cardiomegaly_mentions\\descriptor_grouped_images_all\"\n",
    "\n",
    "process_all_folders(root_folder)\n"
   ]
  },
  {
   "cell_type": "code",
   "execution_count": 5,
   "id": "aad907cc",
   "metadata": {},
   "outputs": [
    {
     "name": "stdout",
     "output_type": "stream",
     "text": [
      "Renamed folder: D:\\all_reports_combined\\cardiomegaly_mentions\\descriptor_grouped_images_all\\borderline_dicom_id.json -> D:\\all_reports_combined\\cardiomegaly_mentions\\descriptor_grouped_images_all\\borderline\n",
      "Renamed folder: D:\\all_reports_combined\\cardiomegaly_mentions\\descriptor_grouped_images_all\\marked_dicom_id.json -> D:\\all_reports_combined\\cardiomegaly_mentions\\descriptor_grouped_images_all\\marked\n",
      "Renamed folder: D:\\all_reports_combined\\cardiomegaly_mentions\\descriptor_grouped_images_all\\massive_dicom_id.json -> D:\\all_reports_combined\\cardiomegaly_mentions\\descriptor_grouped_images_all\\massive\n",
      "Renamed folder: D:\\all_reports_combined\\cardiomegaly_mentions\\descriptor_grouped_images_all\\mild_dicom_id.json -> D:\\all_reports_combined\\cardiomegaly_mentions\\descriptor_grouped_images_all\\mild\n",
      "Renamed folder: D:\\all_reports_combined\\cardiomegaly_mentions\\descriptor_grouped_images_all\\mild_to_moderate_dicom_id.json -> D:\\all_reports_combined\\cardiomegaly_mentions\\descriptor_grouped_images_all\\mild_to_moderate\n",
      "Renamed folder: D:\\all_reports_combined\\cardiomegaly_mentions\\descriptor_grouped_images_all\\moderate_dicom_id.json -> D:\\all_reports_combined\\cardiomegaly_mentions\\descriptor_grouped_images_all\\moderate\n",
      "Renamed folder: D:\\all_reports_combined\\cardiomegaly_mentions\\descriptor_grouped_images_all\\moderate_to_severe_dicom_id.json -> D:\\all_reports_combined\\cardiomegaly_mentions\\descriptor_grouped_images_all\\moderate_to_severe\n",
      "Renamed folder: D:\\all_reports_combined\\cardiomegaly_mentions\\descriptor_grouped_images_all\\normal_dicom_id.json -> D:\\all_reports_combined\\cardiomegaly_mentions\\descriptor_grouped_images_all\\normal\n",
      "Renamed folder: D:\\all_reports_combined\\cardiomegaly_mentions\\descriptor_grouped_images_all\\possible_dicom_id.json -> D:\\all_reports_combined\\cardiomegaly_mentions\\descriptor_grouped_images_all\\possible\n",
      "Renamed folder: D:\\all_reports_combined\\cardiomegaly_mentions\\descriptor_grouped_images_all\\severe_dicom_id.json -> D:\\all_reports_combined\\cardiomegaly_mentions\\descriptor_grouped_images_all\\severe\n",
      "Renamed folder: D:\\all_reports_combined\\cardiomegaly_mentions\\descriptor_grouped_images_all\\significant_dicom_id.json -> D:\\all_reports_combined\\cardiomegaly_mentions\\descriptor_grouped_images_all\\significant\n",
      "Renamed folder: D:\\all_reports_combined\\cardiomegaly_mentions\\descriptor_grouped_images_all\\slightly_dicom_id.json -> D:\\all_reports_combined\\cardiomegaly_mentions\\descriptor_grouped_images_all\\slightly\n",
      "Renamed folder: D:\\all_reports_combined\\cardiomegaly_mentions\\descriptor_grouped_images_all\\somewhat_dicom_id.json -> D:\\all_reports_combined\\cardiomegaly_mentions\\descriptor_grouped_images_all\\somewhat\n",
      "Renamed folder: D:\\all_reports_combined\\cardiomegaly_mentions\\descriptor_grouped_images_all\\substantial_dicom_id.json -> D:\\all_reports_combined\\cardiomegaly_mentions\\descriptor_grouped_images_all\\substantial\n",
      "Renamed folder: D:\\all_reports_combined\\cardiomegaly_mentions\\descriptor_grouped_images_all\\top_normal_dicom_id.json -> D:\\all_reports_combined\\cardiomegaly_mentions\\descriptor_grouped_images_all\\top_normal\n"
     ]
    }
   ],
   "source": [
    "import os\n",
    "\n",
    "def rename_folders(root_folder):\n",
    "    # Iterate over each item in the root folder\n",
    "    for item in os.listdir(root_folder):\n",
    "        item_path = os.path.join(root_folder, item)\n",
    "        # Check if the item is a directory\n",
    "        if os.path.isdir(item_path):\n",
    "            # Split the folder name and extension\n",
    "            folder_name, extension = os.path.splitext(item)\n",
    "            # Check if the folder name ends with \"_dicom_id.json\"\n",
    "            if folder_name.endswith(\"_dicom_id\"):\n",
    "                # Generate the new folder name without \"_dicom_id.json\" at the end\n",
    "                new_folder_name = folder_name[:-len(\"_dicom_id\")]\n",
    "                new_folder_path = os.path.join(root_folder, new_folder_name)\n",
    "                # Rename the folder\n",
    "                os.rename(item_path, new_folder_path)\n",
    "                print(f\"Renamed folder: {item_path} -> {new_folder_path}\")\n",
    "\n",
    "# Provide the root folder path\n",
    "root_folder_path = r\"D:\\all_reports_combined\\cardiomegaly_mentions\\descriptor_grouped_images_all\"\n",
    "\n",
    "# Call the function to rename the folders\n",
    "rename_folders(root_folder_path)\n"
   ]
  },
  {
   "cell_type": "code",
   "execution_count": 3,
   "id": "0cfc565b",
   "metadata": {},
   "outputs": [
    {
     "name": "stderr",
     "output_type": "stream",
     "text": [
      "100%|████████████████████████████████████████████████████████████████████████████| 1667/1667 [1:02:15<00:00,  2.24s/it]\n"
     ]
    }
   ],
   "source": [
    "import os\n",
    "\n",
    "def process_folder(root_folder, output_folder):\n",
    "    # Create the output folder if it doesn't exist\n",
    "    if not os.path.exists(output_folder):\n",
    "        os.makedirs(output_folder)\n",
    "\n",
    "    # Process the files in the root folder\n",
    "    model.process_folder(\n",
    "        root_folder, \n",
    "        output_folder, \n",
    "        'png', \n",
    "        create=True\n",
    "    )\n",
    "\n",
    "# Specify the root folder and output folder\n",
    "root_folder = r\"D:\\no_mentions\"\n",
    "output_folder = r\"D:\\no_mentions\\output\"\n",
    "\n",
    "# Process the root folder\n",
    "process_folder(root_folder, output_folder)\n"
   ]
  },
  {
   "cell_type": "code",
   "execution_count": 1,
   "id": "3d882e11",
   "metadata": {},
   "outputs": [
    {
     "name": "stderr",
     "output_type": "stream",
     "text": [
      "C:\\Users\\Tianh\\AppData\\Local\\Temp\\ipykernel_25708\\2226436032.py:17: DeprecationWarning: ANTIALIAS is deprecated and will be removed in Pillow 10 (2023-07-01). Use LANCZOS or Resampling.LANCZOS instead.\n",
      "  resized_img = img.resize((new_width, max_height), Image.ANTIALIAS)\n"
     ]
    }
   ],
   "source": [
    "from PIL import Image\n",
    "import os\n",
    "\n",
    "def resize_image(input_path, output_path, max_height):\n",
    "    # Open the image\n",
    "    with Image.open(input_path) as img:\n",
    "        # Get the width and height of the image\n",
    "        width, height = img.size\n",
    "        \n",
    "        # Calculate the scaling factor to resize the image while preserving aspect ratio\n",
    "        scaling_factor = max_height / height\n",
    "        \n",
    "        # Calculate the new width based on the scaling factor\n",
    "        new_width = int(width * scaling_factor)\n",
    "        \n",
    "        # Resize the image\n",
    "        resized_img = img.resize((new_width, max_height), Image.ANTIALIAS)\n",
    "        \n",
    "        # Save the resized image\n",
    "        resized_img.save(output_path)\n",
    "        \n",
    "\n",
    "def process_images(folder_path, max_height):\n",
    "    # Iterate through each file in the folder\n",
    "    for filename in os.listdir(folder_path):\n",
    "        # Check if the file is a JPEG image\n",
    "        if filename.endswith(\".jpg\"):\n",
    "            # Construct the full path of the input and output images\n",
    "            input_path = os.path.join(folder_path, filename)\n",
    "            output_path = os.path.join(folder_path, \"resized_\" + filename)\n",
    "            \n",
    "            # Resize the image if its height is larger than the specified maximum height\n",
    "            with Image.open(input_path) as img:\n",
    "                width, height = img.size\n",
    "                if height > max_height:\n",
    "                    resize_image(input_path, output_path, max_height)\n",
    "\n",
    "\n",
    "# Specify the folder containing the JPEG images\n",
    "folder_path = r\"D:\\no_mentions\"  # Replace this with the actual path to your folder\n",
    "\n",
    "# Specify the maximum height for resizing\n",
    "max_height = 2000\n",
    "\n",
    "# Process the images in the folder\n",
    "process_images(folder_path, max_height)\n"
   ]
  },
  {
   "cell_type": "code",
   "execution_count": null,
   "id": "384f893f",
   "metadata": {},
   "outputs": [],
   "source": []
  }
 ],
 "metadata": {
  "kernelspec": {
   "display_name": "cxas_CXR",
   "language": "python",
   "name": "cxas_cxr"
  },
  "language_info": {
   "codemirror_mode": {
    "name": "ipython",
    "version": 3
   },
   "file_extension": ".py",
   "mimetype": "text/x-python",
   "name": "python",
   "nbconvert_exporter": "python",
   "pygments_lexer": "ipython3",
   "version": "3.10.13"
  }
 },
 "nbformat": 4,
 "nbformat_minor": 5
}
